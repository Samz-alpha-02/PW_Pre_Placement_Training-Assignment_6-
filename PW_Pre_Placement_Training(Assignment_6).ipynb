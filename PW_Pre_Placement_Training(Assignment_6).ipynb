{
  "nbformat": 4,
  "nbformat_minor": 0,
  "metadata": {
    "colab": {
      "provenance": []
    },
    "kernelspec": {
      "name": "python3",
      "display_name": "Python 3"
    },
    "language_info": {
      "name": "python"
    }
  },
  "cells": [
    {
      "cell_type": "code",
      "execution_count": null,
      "metadata": {
        "colab": {
          "base_uri": "https://localhost:8080/"
        },
        "id": "NipOQRpaQX1s",
        "outputId": "d99de75d-5274-41fd-f401-86a050922f50"
      },
      "outputs": [
        {
          "output_type": "stream",
          "name": "stdout",
          "text": [
            "[0, 4, 1, 3, 2]\n"
          ]
        }
      ],
      "source": [
        "#Q1\n",
        "def findPermutation(s: str) -> list[int]:\n",
        "    n = len(s)\n",
        "    perm = []\n",
        "    low, high = 0, n\n",
        "\n",
        "    for ch in s:\n",
        "        if ch == 'I':\n",
        "            perm.append(low)\n",
        "            low += 1\n",
        "        elif ch == 'D':\n",
        "            perm.append(high)\n",
        "            high -= 1\n",
        "\n",
        "    # Append the last remaining number\n",
        "    perm.append(low)\n",
        "\n",
        "    return perm\n",
        "\n",
        "# Example usage:\n",
        "s = \"IDID\"\n",
        "result = findPermutation(s)\n",
        "print(result)\n"
      ]
    },
    {
      "cell_type": "code",
      "source": [
        "#Q2\n",
        "def search(nums, target):\n",
        "    n = len(nums)\n",
        "    m = len(nums[0])\n",
        "    low = 0\n",
        "    high = (n * m) - 1\n",
        "\n",
        "    while low <= high:\n",
        "        mid = (low + high) // 2\n",
        "        num = nums[mid // m][mid % m]\n",
        "        if num == target:\n",
        "            return True\n",
        "        elif target < num:\n",
        "            high = mid - 1\n",
        "        else:\n",
        "            low = mid + 1\n",
        "\n",
        "    return False\n",
        "\n",
        "nums = [[1, 3, 5, 7], [10, 11, 16, 20], [23, 30, 34, 60]]\n",
        "target = 3\n",
        "print(search(nums, target))\n"
      ],
      "metadata": {
        "colab": {
          "base_uri": "https://localhost:8080/"
        },
        "id": "cPy5n5TSQl7k",
        "outputId": "79c291c5-3217-4190-f8c1-b8cd27d8e1d0"
      },
      "execution_count": null,
      "outputs": [
        {
          "output_type": "stream",
          "name": "stdout",
          "text": [
            "True\n"
          ]
        }
      ]
    },
    {
      "cell_type": "code",
      "source": [
        "#Q3\n",
        "def array(nums):\n",
        "  n=len(nums)\n",
        "  k=0\n",
        "  flag=1\n",
        "  if n>=3:\n",
        "    for i in range(n-1):\n",
        "      if nums[i]<nums[i+1]:\n",
        "        flag=1\n",
        "        continue\n",
        "      else:\n",
        "        k=i\n",
        "        flag=0\n",
        "        break\n",
        "\n",
        "    for i in range(i,n-1):\n",
        "      if nums[i]>nums[i+1]:\n",
        "        flag=1\n",
        "        continue\n",
        "      else:\n",
        "        flag=0\n",
        "        break\n",
        "    if flag==1:\n",
        "      return True\n",
        "    else:\n",
        "      return False\n",
        "  else:\n",
        "    return False\n",
        "\n",
        "nums1=[0,2,3,4,5,2,1,0]\n",
        "print(array(nums1))\n",
        "nums2=[3,1]\n",
        "print(array(nums2))\n"
      ],
      "metadata": {
        "colab": {
          "base_uri": "https://localhost:8080/"
        },
        "id": "IPldCmYeZLYm",
        "outputId": "2904d07c-1a21-4664-d154-51d43a33770a"
      },
      "execution_count": null,
      "outputs": [
        {
          "output_type": "stream",
          "name": "stdout",
          "text": [
            "True\n",
            "False\n"
          ]
        }
      ]
    },
    {
      "cell_type": "code",
      "source": [
        "#Q4\n",
        "def findMaxLength(nums):\n",
        "    max_length = 0\n",
        "    running_sum = 0\n",
        "    hashmap = {0: -1}  # Initialize hashmap with (0, -1)\n",
        "\n",
        "    for i in range(len(nums)):\n",
        "        if nums[i] == 1:\n",
        "            running_sum += 1\n",
        "        else:\n",
        "            running_sum -= 1\n",
        "\n",
        "        if running_sum in hashmap:\n",
        "            subarray_length = i - hashmap[running_sum]\n",
        "            max_length = max(max_length, subarray_length)\n",
        "        else:\n",
        "            hashmap[running_sum] = i\n",
        "\n",
        "    return max_length\n",
        "\n",
        "nums = [0,1]\n",
        "print(findMaxLength(nums))\n"
      ],
      "metadata": {
        "id": "rOnk_ttkd9HM",
        "colab": {
          "base_uri": "https://localhost:8080/"
        },
        "outputId": "3180c2d0-c02d-4cf6-e9f9-112f35acd315"
      },
      "execution_count": 1,
      "outputs": [
        {
          "output_type": "stream",
          "name": "stdout",
          "text": [
            "2\n"
          ]
        }
      ]
    },
    {
      "cell_type": "code",
      "source": [
        "#Q5\n",
        "def minProductSum(nums1, nums2):\n",
        "    nums1.sort()  # Sort nums1 in ascending order\n",
        "\n",
        "    # Sort nums2 in descending order\n",
        "    sorted_nums2 = sorted(nums2, reverse=True)\n",
        "\n",
        "    min_sum = 0\n",
        "    for i in range(len(nums1)):\n",
        "        min_sum += nums1[i] * sorted_nums2[i]\n",
        "\n",
        "    return min_sum\n",
        "\n",
        "# Example usage\n",
        "nums1 = [5, 3, 4, 2]\n",
        "nums2 = [4, 2, 2, 5]\n",
        "print(minProductSum(nums1, nums2))\n",
        "\n",
        "\n",
        "\n"
      ],
      "metadata": {
        "colab": {
          "base_uri": "https://localhost:8080/"
        },
        "id": "ej9m6nVpezey",
        "outputId": "217a9c0c-e26a-46d3-8010-0a93437fabee"
      },
      "execution_count": 1,
      "outputs": [
        {
          "output_type": "stream",
          "name": "stdout",
          "text": [
            "40\n"
          ]
        }
      ]
    },
    {
      "cell_type": "code",
      "source": [
        "#Q6\n",
        "def check(changed):\n",
        "    original = []\n",
        "\n",
        "    for num in range(0,len(changed)//2):\n",
        "        if changed[num] * 2 in changed:\n",
        "            original.append(changed[num])\n",
        "\n",
        "    return original\n",
        "\n",
        "changed = [1, 3, 4, 2, 6, 8]\n",
        "print(check(changed))"
      ],
      "metadata": {
        "colab": {
          "base_uri": "https://localhost:8080/"
        },
        "id": "ze3D4wIUn2CB",
        "outputId": "7bc793e5-3eb5-47ad-bd41-b1a86f69ae41"
      },
      "execution_count": 4,
      "outputs": [
        {
          "output_type": "stream",
          "name": "stdout",
          "text": [
            "[1, 3, 4]\n"
          ]
        }
      ]
    },
    {
      "cell_type": "code",
      "source": [
        "#Q7\n",
        "def generateMatrix(n):\n",
        "    matrix = [[0] * n for _ in range(n)]\n",
        "    top, bottom, left, right = 0, n - 1, 0, n - 1\n",
        "    num = 1\n",
        "\n",
        "    while True:\n",
        "        # Fill top row\n",
        "        for i in range(left, right + 1):\n",
        "            matrix[top][i] = num\n",
        "            num += 1\n",
        "        top += 1\n",
        "\n",
        "        if top > bottom or left > right:\n",
        "            break\n",
        "\n",
        "        # Fill right column\n",
        "        for i in range(top, bottom + 1):\n",
        "            matrix[i][right] = num\n",
        "            num += 1\n",
        "        right -= 1\n",
        "\n",
        "        if top > bottom or left > right:\n",
        "            break\n",
        "\n",
        "        # Fill bottom row\n",
        "        for i in range(right, left - 1, -1):\n",
        "            matrix[bottom][i] = num\n",
        "            num += 1\n",
        "        bottom -= 1\n",
        "\n",
        "        if top > bottom or left > right:\n",
        "            break\n",
        "\n",
        "        # Fill left column\n",
        "        for i in range(bottom, top - 1, -1):\n",
        "            matrix[i][left] = num\n",
        "            num += 1\n",
        "        left += 1\n",
        "\n",
        "    return matrix\n",
        "\n",
        "n = 3\n",
        "result = generateMatrix(n)\n",
        "print(result)"
      ],
      "metadata": {
        "colab": {
          "base_uri": "https://localhost:8080/"
        },
        "id": "DqfiMiD2qbYX",
        "outputId": "4484570a-9066-4c72-fe21-ead71cab635e"
      },
      "execution_count": 5,
      "outputs": [
        {
          "output_type": "stream",
          "name": "stdout",
          "text": [
            "[[1, 2, 3], [8, 9, 4], [7, 6, 5]]\n"
          ]
        }
      ]
    },
    {
      "cell_type": "code",
      "source": [
        "#Q8\n",
        "def multiply(mat1, mat2):\n",
        "    m, k, n = len(mat1), len(mat1[0]), len(mat2[0])\n",
        "    res = [[0] * n for _ in range(m)]\n",
        "\n",
        "    for r in range(m):\n",
        "        for c in range(n):\n",
        "            dot_product = 0\n",
        "            for i in range(k):\n",
        "                if mat1[r][i] != 0 and mat2[i][c] != 0:\n",
        "                    dot_product += mat1[r][i] * mat2[i][c]\n",
        "            res[r][c] = dot_product\n",
        "\n",
        "    return res\n",
        "\n",
        "mat1 = [[1, 0, 0], [-1, 0, 3]]\n",
        "mat2 = [[7, 0, 0], [0, 0, 0], [0, 0, 1]]\n",
        "result = multiply(mat1, mat2)\n",
        "print(result)\n"
      ],
      "metadata": {
        "colab": {
          "base_uri": "https://localhost:8080/"
        },
        "id": "8Z8DhCHCsEZl",
        "outputId": "04722e73-cb74-45f5-f257-fcd621d26881"
      },
      "execution_count": 6,
      "outputs": [
        {
          "output_type": "stream",
          "name": "stdout",
          "text": [
            "[[7, 0, 0], [-7, 0, 3]]\n"
          ]
        }
      ]
    }
  ]
}